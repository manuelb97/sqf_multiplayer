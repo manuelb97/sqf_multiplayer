{
 "cells": [
  {
   "cell_type": "code",
   "execution_count": 1,
   "metadata": {},
   "outputs": [],
   "source": [
    "import csv\n",
    "import pandas as pd"
   ]
  },
  {
   "cell_type": "code",
   "execution_count": 4,
   "metadata": {},
   "outputs": [],
   "source": [
    "file_p = r\"C:\\Users\\Arkani\\AppData\\Local\\Arma 3\\Arma3_x64_2022-05-07_21-44-30.rpt\"\n",
    "start_inc = True\n",
    "\n",
    "cols = [\"Time\", \"Msg\"]\n",
    "d_dict = {}\n",
    "for col in cols:\n",
    "    d_dict[col] = []\n",
    "\n",
    "exc_txt = [\n",
    "    \"Strange convex\", \n",
    "    \"not found\", \n",
    "    \"factions:\", \n",
    "    \"MCC\", \n",
    "    \"Attempt\", \n",
    "    \"Ragdoll\", \n",
    "    \"VehicleAim\", \n",
    "    \"Ref to\", \n",
    "    \"weren't stored\", \n",
    "    \"unknown animation\",\n",
    "    \"Invalid memory\",\n",
    "    \"falling under terrain\",\n",
    "    \"not initialized properly\",\n",
    "    \"Land_i_Stone_HouseSmall_V3_dam_F\",\n",
    "    \"unable to get word\",\n",
    "    \"Weather was forced to change\",\n",
    "    \"No config for wound type\",\n",
    "    \"lacks proper\",\n",
    "    \"Warning Message\"\n",
    "]\n",
    "\n",
    "last_msg = \"\"\n",
    "\n",
    "with open(file_p, 'r') as f:\n",
    "    reader = csv.reader(f)\n",
    "    for i, line in enumerate(reader):\n",
    "        if len(line) != 0:\n",
    "            line_txt = line[0]\n",
    "            line_time, line_msg = [line_txt[0:8], line_txt[8:]]\n",
    "            \n",
    "            if \"Connected to Steam servers\" in line_msg and not start_inc:\n",
    "                start_inc = True\n",
    "\n",
    "            if start_inc:\n",
    "                # remove lines with useless info\n",
    "                inc = len([ele for ele in exc_txt if ele in line_msg]) < 1\n",
    "\n",
    "                if inc and line_msg != last_msg:\n",
    "                    #print([i, line_time, line_msg, inc])\n",
    "                    last_msg = line_msg\n",
    "\n",
    "                    for val, key in zip([line_time, line_msg], cols):\n",
    "                        d_dict[key].append(val)\n",
    "\n",
    "\n",
    "\n",
    "pd.DataFrame(d_dict).to_csv(r\"C:\\Users\\Arkani\\Desktop\\log.csv\")"
   ]
  },
  {
   "cell_type": "code",
   "execution_count": 4,
   "metadata": {},
   "outputs": [
    {
     "data": {
      "text/plain": [
       "('17:13:23', ' \"[BiA] [HostSelector]: Current Host: manu\"')"
      ]
     },
     "execution_count": 4,
     "metadata": {},
     "output_type": "execute_result"
    }
   ],
   "source": [
    "line_time, line_msg"
   ]
  }
 ],
 "metadata": {
  "interpreter": {
   "hash": "af64ca6839aa190d5512fbdaa0a9c97bb88fbff8c3be47ecb8dd61327485b4c9"
  },
  "kernelspec": {
   "display_name": "Python 3.8.2 32-bit",
   "language": "python",
   "name": "python3"
  },
  "language_info": {
   "codemirror_mode": {
    "name": "ipython",
    "version": 3
   },
   "file_extension": ".py",
   "mimetype": "text/x-python",
   "name": "python",
   "nbconvert_exporter": "python",
   "pygments_lexer": "ipython3",
   "version": "3.8.2"
  },
  "orig_nbformat": 4
 },
 "nbformat": 4,
 "nbformat_minor": 2
}
